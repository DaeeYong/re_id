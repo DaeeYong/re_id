{
 "cells": [
  {
   "cell_type": "code",
   "execution_count": 26,
   "metadata": {},
   "outputs": [],
   "source": [
    "import sys\n",
    "import json\n",
    "sys.path.append('../src/')\n",
    "\n",
    "from dragon import dragonV\n"
   ]
  },
  {
   "cell_type": "code",
   "execution_count": null,
   "metadata": {},
   "outputs": [],
   "source": [
    "openpose_path = '/Users/ivory/Documents/1/openpose_pp11/'\n",
    "op_joint_path = '/Users/ivory/Documents/1/openpose_data/2d_joint/'\n",
    "\n",
    "task_list = [\n",
    "    'gait1_front',\n",
    "    'gait1_rear',\n",
    "    'gait2_front',\n",
    "    'gait2_rear',\n",
    "    'obstacle_high_front',\n",
    "    'obstacle_high_rear',\n",
    "    'obstacle_low_front',\n",
    "    'obstacle_low_rear',\n",
    "    'tug_front',\n",
    "    'tug_low',\n",
    "    'walk_fast_front',\n",
    "    'walk_fast_rear',\n",
    "    'walk_preferred_front',\n",
    "    'walk_preferred_rear',\n",
    "    'walk_slow_front',\n",
    "    'walk_slow_rear'\n",
    "]"
   ]
  },
  {
   "cell_type": "code",
   "execution_count": 25,
   "metadata": {},
   "outputs": [],
   "source": [
    "openpose_json_folder_path = openpose_path + task_list[1]\n",
    "json_list = dragonV.get_jsons_list(openpose_json_folder_path)\n",
    "\n",
    "op_dict = {}\n",
    "for cur_frame_number, each_json in enumerate(json_list):\n",
    "    with open(openpose_json_folder_path + '/' + each_json, 'r') as file:\n",
    "        cur_json = json.load(file)\n",
    "    \n",
    "    #하나의 json file에 존재하는 사람 수\n",
    "    people_list = cur_json['people']\n",
    "    people_len = len(people_list)\n",
    "    \n",
    "    for people_idx, cur_people in enumerate(people_list):\n",
    "        joint_2d = cur_people['pose_keypoints_2d']\n",
    "        joint_2d.insert(0, cur_frame_number)\n",
    "        \n",
    "        if people_idx in op_dict:\n",
    "            op_dict[people_idx].append(joint_2d)\n",
    "        else:\n",
    "            op_dict[people_idx] = []\n",
    "            op_dict[people_idx].append(joint_2d)\n",
    "\n",
    "with open(op_joint_path + '/' + task_list[1] + '.json', 'w', encoding='utf-8') as file:\n",
    "    json.dump(op_dict, file, ensure_ascii=False, indent=4)"
   ]
  },
  {
   "cell_type": "code",
   "execution_count": null,
   "metadata": {},
   "outputs": [
    {
     "name": "stdout",
     "output_type": "stream",
     "text": [
      "253\n",
      "253\n",
      "253\n",
      "1\n"
     ]
    }
   ],
   "source": [
    "\n"
   ]
  },
  {
   "cell_type": "code",
   "execution_count": null,
   "metadata": {},
   "outputs": [],
   "source": []
  }
 ],
 "metadata": {
  "kernelspec": {
   "display_name": "Python 3",
   "language": "python",
   "name": "python3"
  },
  "language_info": {
   "codemirror_mode": {
    "name": "ipython",
    "version": 3
   },
   "file_extension": ".py",
   "mimetype": "text/x-python",
   "name": "python",
   "nbconvert_exporter": "python",
   "pygments_lexer": "ipython3",
   "version": "3.12.1"
  }
 },
 "nbformat": 4,
 "nbformat_minor": 2
}
