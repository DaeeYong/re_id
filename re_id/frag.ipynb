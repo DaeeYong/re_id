{
 "cells": [
  {
   "cell_type": "code",
   "execution_count": null,
   "metadata": {},
   "outputs": [],
   "source": [
    "##1번 없는 곳을 []로 채우기\n",
    "\n",
    "##0번\n",
    "## 순회하는데 리스트의 길이가 달라져서 문제가 발생. 새로운 리스트에 복사를 하자.\n",
    "for now_frame_idx, each_roi_data in enumerate(roi_data[0]):\n",
    "    \n",
    "    #roi data parsing\n",
    "    roi_frame_number = each_roi_data[0]\n",
    "    pt1_x = each_roi_data[1]\n",
    "    pt1_y = each_roi_data[2]\n",
    "    pt2_x = each_roi_data[3]\n",
    "    pt2_y = each_roi_data[4]\n",
    "    \n",
    "    if now_frame_idx != roi_frame_number:\n",
    "        cur_roi_data[0].insert(now_frame_idx, [now_frame_idx, pt1_x, pt1_y, pt2_x, pt2_y])\n",
    "        print(f'insert: {now_frame_idx}')\n",
    "##1번\n",
    "for now_frame_idx, each_roi_data in enumerate(roi_data[1]):\n",
    "    #roi data parsing\n",
    "    roi_frame_number = roi_data[0]\n",
    "    pt1_x = each_roi_data[1]\n",
    "    pt1_y = each_roi_data[2]\n",
    "    pt2_x = each_roi_data[3]\n",
    "    pt2_y = each_roi_data[4]\n",
    "    \n",
    "    if now_frame_idx != roi_frame_number:\n",
    "        cur_roi_data[1].insert(now_frame_idx, [now_frame_idx, pt1_x, pt1_y, pt2_x, pt2_y])\n"
   ]
  }
 ],
 "metadata": {
  "kernelspec": {
   "display_name": "Python 3",
   "language": "python",
   "name": "python3"
  },
  "language_info": {
   "name": "python",
   "version": "3.12.1"
  }
 },
 "nbformat": 4,
 "nbformat_minor": 2
}
