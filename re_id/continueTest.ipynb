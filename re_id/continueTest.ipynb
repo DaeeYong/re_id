{
 "cells": [
  {
   "cell_type": "code",
   "execution_count": 3,
   "metadata": {},
   "outputs": [],
   "source": [
    "import json"
   ]
  },
  {
   "cell_type": "code",
   "execution_count": null,
   "metadata": {},
   "outputs": [],
   "source": [
    "def isContinue(Number_list):    \n",
    "    for idx, target in enumerate(Number_list):\n",
    "        if(idx != target):\n",
    "            return False \n",
    "    return True"
   ]
  },
  {
   "cell_type": "code",
   "execution_count": null,
   "metadata": {},
   "outputs": [],
   "source": [
    "pre_roi_path = '/Users/ivory/Documents/1/pre_roi/'\n",
    "ppxx_list = ['pp11']\n",
    "task_list = [\n",
    "    'gait1_front', 'gait1_rear', 'gait2_front', 'gait2_rear',\n",
    "'obstacle_high_front', 'obstacle_high_rear', 'obstacle_low_front', 'obstacle_low_rear',\n",
    "'tug_front', 'tug_low', 'walk_fast_front', 'walk_fast_rear', 'walk_preferred_front',\n",
    "'walk_preferred_rear', 'walk_slow_front',\n",
    "'walk_slow_rear'\n",
    "]"
   ]
  },
  {
   "cell_type": "code",
   "execution_count": 23,
   "metadata": {},
   "outputs": [
    {
     "name": "stdout",
     "output_type": "stream",
     "text": [
      "gait1_front: BAD\n",
      "gait1_rear: GOOD!\n",
      "gait2_front: BAD\n",
      "gait2_rear: GOOD!\n",
      "obstacle_high_front: GOOD!\n",
      "obstacle_high_rear: GOOD!\n",
      "obstacle_low_front: GOOD!\n",
      "obstacle_low_rear: GOOD!\n",
      "tug_front: GOOD!\n",
      "tug_low: GOOD!\n",
      "walk_fast_front: BAD\n",
      "walk_fast_rear: GOOD!\n",
      "walk_preferred_front: BAD\n",
      "walk_preferred_rear: GOOD!\n",
      "walk_slow_front: GOOD!\n",
      "walk_slow_rear: GOOD!\n"
     ]
    }
   ],
   "source": [
    "bad_list:list[str] = []\n",
    "for each_task in task_list:\n",
    "    file_name = pre_roi_path + ppxx_list[0] + '/' + each_task + '.json'\n",
    "    with open(file_name, 'r') as file:\n",
    "        roi_data = json.load(file)\n",
    "        \n",
    "        #0번\n",
    "        frame_num_list = []\n",
    "        for each_frame in roi_data['0']:\n",
    "            frame_num_list.append(each_frame[0])\n",
    "        rtn1 = isContinue(frame_num_list)\n",
    "        \n",
    "        #1번\n",
    "        frame_num_list = []\n",
    "        for each_frame in roi_data['1']:\n",
    "            frame_num_list.append(each_frame[0])\n",
    "        rtn2 = isContinue(frame_num_list)\n",
    "        \n",
    "        if(rtn1 == True and rtn2 == True): print(f'{each_task}: GOOD!')\n",
    "        else:\n",
    "            bad_list.append(each_task)\n",
    "            print(f'{each_task}: BAD')\n",
    "            \n",
    "        "
   ]
  },
  {
   "cell_type": "code",
   "execution_count": 24,
   "metadata": {},
   "outputs": [
    {
     "data": {
      "text/plain": [
       "['gait1_front', 'gait2_front', 'walk_fast_front', 'walk_preferred_front']"
      ]
     },
     "execution_count": 24,
     "metadata": {},
     "output_type": "execute_result"
    }
   ],
   "source": [
    "bad_list"
   ]
  },
  {
   "cell_type": "code",
   "execution_count": 26,
   "metadata": {},
   "outputs": [],
   "source": [
    "bad_file_name = pre_roi_path + ppxx_list[0] + '/' + bad_list[0] + '.json'\n",
    "with open(bad_file_name, 'r') as file:\n",
    "    bad_roi_data = json.load(file)"
   ]
  },
  {
   "cell_type": "code",
   "execution_count": 31,
   "metadata": {},
   "outputs": [],
   "source": [
    "def find_discontinuities_sorted(lst):\n",
    "    if not lst or len(lst) == 1:\n",
    "        return []  # 빈 리스트나 요소가 하나인 리스트는 불연속적인 위치가 없음\n",
    "\n",
    "    discontinuities = []\n",
    "\n",
    "    for i in range(1, len(lst)):\n",
    "        if lst[i] != lst[i - 1] + 1:\n",
    "            discontinuities.append(i)  # 불연속이 시작되는 인덱스(i)를 추가\n",
    "\n",
    "    return discontinuities  # 불연속이 시작된 인덱스들을 반환"
   ]
  },
  {
   "cell_type": "code",
   "execution_count": 37,
   "metadata": {},
   "outputs": [],
   "source": [
    "a = []\n",
    "for each_frame in bad_roi_data['1']:\n",
    "    a.append(each_frame[0])"
   ]
  },
  {
   "cell_type": "code",
   "execution_count": 38,
   "metadata": {},
   "outputs": [
    {
     "data": {
      "text/plain": [
       "[129]"
      ]
     },
     "execution_count": 38,
     "metadata": {},
     "output_type": "execute_result"
    }
   ],
   "source": [
    "find_discontinuities_sorted(a)"
   ]
  },
  {
   "cell_type": "code",
   "execution_count": 39,
   "metadata": {},
   "outputs": [
    {
     "name": "stdout",
     "output_type": "stream",
     "text": [
      "False\n"
     ]
    }
   ],
   "source": [
    "print(isContinue(a))"
   ]
  },
  {
   "cell_type": "code",
   "execution_count": null,
   "metadata": {},
   "outputs": [],
   "source": []
  }
 ],
 "metadata": {
  "kernelspec": {
   "display_name": "Python 3",
   "language": "python",
   "name": "python3"
  },
  "language_info": {
   "codemirror_mode": {
    "name": "ipython",
    "version": 3
   },
   "file_extension": ".py",
   "mimetype": "text/x-python",
   "name": "python",
   "nbconvert_exporter": "python",
   "pygments_lexer": "ipython3",
   "version": "3.12.1"
  }
 },
 "nbformat": 4,
 "nbformat_minor": 2
}
